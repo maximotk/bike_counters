{
 "cells": [
  {
   "cell_type": "code",
   "execution_count": null,
   "metadata": {},
   "outputs": [],
   "source": [
    "# Added date features\n",
    "\n",
    "fr_holidays = holidays.France()\n",
    "\n",
    "df[\"datetime\"] = df[\"date\"]\n",
    "df[\"date\"] = df[\"datetime\"].dt.date\n",
    "df[\"hour\"] = df[\"datetime\"].dt.hour\n",
    "df[\"weekday\"] = df[\"datetime\"].dt.weekday\n",
    "df[\"daymonth\"] = df[\"datetime\"].dt.strftime('%d') + \"_\" + df[\"datetime\"].dt.month.astype(str)\n",
    "df[\"IsHoliday\"] = df[\"datetime\"].dt.date.apply(lambda x: x in fr_holidays)\n",
    "\n"
   ]
  },
  {
   "cell_type": "code",
   "execution_count": null,
   "metadata": {},
   "outputs": [],
   "source": [
    "# technical days\n",
    "\n",
    "data[\"date_truncated\"] = data[\"date\"].dt.floor(\"D\")\n",
    "\n",
    "grouped_data = (\n",
    "    data.groupby([\"counter_id\", \"date_truncated\"])\n",
    "    [\"log_bike_count\"].sum()\n",
    "    .to_frame()\n",
    "    .reset_index()\n",
    "    .query(\"log_bike_count == 0\")\n",
    "    [[\"counter_id\", \"date_truncated\"]]\n",
    ")\n",
    "grouped_data[\"counter_id\"].drop_duplicates()\n",
    "\n",
    "\n",
    "\n",
    "filtered_data = (\n",
    "    grouped_data\n",
    "    .merge(data, on=[\"counter_id\", \"date_truncated\"], how=\"right\", indicator=True)\n",
    "    .query(\"_merge == 'right_only'\")\n",
    "    .drop(columns=[\"_merge\"])\n",
    ")\n",
    "print(f\"Eliminate {data.shape[0] - filtered_data.shape[0]} data points out of {data.shape[0]}\")"
   ]
  },
  {
   "cell_type": "code",
   "execution_count": null,
   "metadata": {},
   "outputs": [],
   "source": [
    "# covid\n",
    "\n",
    "expanded_data = data\n",
    "\n",
    "date_ranges = [\n",
    "    (\"2020-10-30\", \"2020-12-15\"),\n",
    "    (\"2021-03-20\", \"2021-05-19\"),\n",
    "]\n",
    "\n",
    "expanded_data[\"Covid-19\"] = 0 \n",
    "for start, end in date_ranges:\n",
    "    expanded_data[\"Covid-19\"] |= expanded_data[\"date\"].between(start, end).astype(int)\n",
    "\n",
    "expanded_data.head()\n"
   ]
  }
 ],
 "metadata": {
  "kernelspec": {
   "display_name": "base",
   "language": "python",
   "name": "python3"
  },
  "language_info": {
   "name": "python",
   "version": "3.12.4"
  }
 },
 "nbformat": 4,
 "nbformat_minor": 2
}
