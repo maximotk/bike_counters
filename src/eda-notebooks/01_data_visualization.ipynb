{
 "cells": [
  {
   "cell_type": "code",
   "execution_count": null,
   "id": "e3d8cad2",
   "metadata": {},
   "outputs": [],
   "source": [
    "import sys\n",
    "from pathlib import Path\n",
    "\n",
    "import pandas as pd\n",
    "import folium\n",
    "from folium.plugins import TimestampedGeoJson\n",
    "import seaborn as sns\n",
    "from matplotlib import cm, colors\n",
    "\n",
    "# make project root discoverable\n",
    "project_root = Path(__file__).resolve().parents[2] if \"__file__\" in globals() else Path().resolve().parents[1]\n",
    "if str(project_root) not in sys.path:\n",
    "    sys.path.append(str(project_root))\n",
    "\n",
    "from paths import DATA_DIR\n"
   ]
  },
  {
   "cell_type": "code",
   "execution_count": null,
   "id": "d4ba61d3",
   "metadata": {},
   "outputs": [],
   "source": [
    "data = pd.read_parquet(DATA_DIR / \"train.parquet\")\n",
    "data_test = pd.read_parquet(DATA_DIR / \"final_test.parquet\")\n",
    "\n",
    "data.head()\n"
   ]
  },
  {
   "cell_type": "code",
   "execution_count": null,
   "id": "3c191f14",
   "metadata": {},
   "outputs": [],
   "source": [
    "m = folium.Map(location=data[[\"latitude\", \"longitude\"]].mean(axis=0), zoom_start=13)\n",
    "\n",
    "for _, row in (\n",
    "    data[[\"counter_name\", \"latitude\", \"longitude\"]]\n",
    "    .drop_duplicates(\"counter_name\")\n",
    "    .iterrows()\n",
    "):\n",
    "    folium.Marker(\n",
    "        row[[\"latitude\", \"longitude\"]].values.tolist(), \n",
    "        popup=row[\"counter_name\"]\n",
    "    ).add_to(m)\n",
    "\n",
    "m\n"
   ]
  },
  {
   "cell_type": "code",
   "execution_count": null,
   "id": "05bdd643",
   "metadata": {},
   "outputs": [],
   "source": [
    "grouped_data = (\n",
    "    data.groupby([\"counter_name\", pd.Grouper(freq=\"1M\", key=\"date\")])[\"log_bike_count\"]\n",
    "    .sum()\n",
    "    .reset_index()\n",
    ")\n",
    "\n",
    "coordinates_mapper = data[[\"counter_name\", \"latitude\", \"longitude\"]].drop_duplicates()\n",
    "grouped_data = grouped_data.merge(\n",
    "    coordinates_mapper,\n",
    "    on=\"counter_name\",\n",
    "    how=\"left\"\n",
    ")\n",
    "\n",
    "grouped_data.head()\n"
   ]
  },
  {
   "cell_type": "code",
   "execution_count": null,
   "id": "1d4dc489",
   "metadata": {},
   "outputs": [],
   "source": [
    "# Normalize log_bike_count for gradient mapping\n",
    "log_min, log_max = grouped_data[\"log_bike_count\"].min(), grouped_data[\"log_bike_count\"].max()\n",
    "norm = colors.Normalize(vmin=log_min, vmax=log_max)\n",
    "\n",
    "# Create a colormap (green → yellow → red, reversed for high=red)\n",
    "cmap = cm.get_cmap(\"RdYlGn_r\")\n",
    "\n",
    "def get_gradient_color(log_value):\n",
    "    rgba_color = cmap(norm(log_value))\n",
    "    return colors.rgb2hex(rgba_color[:3])\n"
   ]
  },
  {
   "cell_type": "code",
   "execution_count": null,
   "id": "ba15cc13",
   "metadata": {},
   "outputs": [],
   "source": [
    "features = [\n",
    "    {\n",
    "        \"type\": \"Feature\",\n",
    "        \"geometry\": {\n",
    "            \"type\": \"Point\",\n",
    "            \"coordinates\": [row[\"longitude\"], row[\"latitude\"]],\n",
    "        },\n",
    "        \"properties\": {\n",
    "            \"time\": row[\"date\"].isoformat(),\n",
    "            \"icon\": \"circle\",\n",
    "            \"iconstyle\": {\n",
    "                \"fillColor\": get_gradient_color(row[\"log_bike_count\"]),\n",
    "                \"fillOpacity\": 1,\n",
    "                \"stroke\": \"false\",\n",
    "                \"radius\": 8,\n",
    "            },\n",
    "            \"style\": {\"weight\": 0},\n",
    "            \"popup\": f\"{row['counter_name']} — Bike Count: {row['log_bike_count']}\",\n",
    "        },\n",
    "    }\n",
    "    for _, row in grouped_data.iterrows()\n",
    "]\n",
    "\n",
    "geojson_data = {\n",
    "    \"type\": \"FeatureCollection\",\n",
    "    \"features\": features,\n",
    "}\n"
   ]
  },
  {
   "cell_type": "code",
   "execution_count": null,
   "id": "8e27820e",
   "metadata": {},
   "outputs": [],
   "source": [
    "m = folium.Map(location=data[[\"latitude\", \"longitude\"]].mean(axis=0), zoom_start=13)\n",
    "\n",
    "TimestampedGeoJson(\n",
    "    data=geojson_data,\n",
    "    period=\"P1M\",              # Monthly steps\n",
    "    add_last_point=False,\n",
    "    auto_play=True,\n",
    "    loop=True,\n",
    "    max_speed=10,\n",
    "    loop_button=True,\n",
    "    date_options=\"YYYY-MM\",\n",
    "    time_slider_drag_update=True,\n",
    ").add_to(m)\n",
    "\n",
    "m\n"
   ]
  }
 ],
 "metadata": {
  "kernelspec": {
   "display_name": "ds310",
   "language": "python",
   "name": "python3"
  },
  "language_info": {
   "name": "python",
   "version": "3.10.18"
  }
 },
 "nbformat": 4,
 "nbformat_minor": 5
}
