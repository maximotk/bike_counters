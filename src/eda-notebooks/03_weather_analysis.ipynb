{
 "cells": [
  {
   "cell_type": "code",
   "execution_count": null,
   "id": "6b82baec",
   "metadata": {},
   "outputs": [
    {
     "name": "stdout",
     "output_type": "stream",
     "text": [
      "sys.path: ['/Users/maximochterbeck/miniforge3/envs/ds310/lib/python310.zip', '/Users/maximochterbeck/miniforge3/envs/ds310/lib/python3.10', '/Users/maximochterbeck/miniforge3/envs/ds310/lib/python3.10/lib-dynload', '', '/Users/maximochterbeck/.local/lib/python3.10/site-packages']\n"
     ]
    },
    {
     "ename": "ModuleNotFoundError",
     "evalue": "No module named 'paths'",
     "output_type": "error",
     "traceback": [
      "\u001b[0;31m---------------------------------------------------------------------------\u001b[0m",
      "\u001b[0;31mModuleNotFoundError\u001b[0m                       Traceback (most recent call last)",
      "Cell \u001b[0;32mIn[2], line 5\u001b[0m\n\u001b[1;32m      2\u001b[0m \u001b[38;5;28;01mfrom\u001b[39;00m\u001b[38;5;250m \u001b[39m\u001b[38;5;21;01mpathlib\u001b[39;00m\u001b[38;5;250m \u001b[39m\u001b[38;5;28;01mimport\u001b[39;00m Path\n\u001b[1;32m      4\u001b[0m \u001b[38;5;28mprint\u001b[39m(\u001b[38;5;124m\"\u001b[39m\u001b[38;5;124msys.path:\u001b[39m\u001b[38;5;124m\"\u001b[39m, sys\u001b[38;5;241m.\u001b[39mpath[:\u001b[38;5;241m5\u001b[39m])  \u001b[38;5;66;03m# first 5 entries\u001b[39;00m\n\u001b[0;32m----> 5\u001b[0m \u001b[38;5;28;01mimport\u001b[39;00m\u001b[38;5;250m \u001b[39m\u001b[38;5;21;01mpaths\u001b[39;00m\n\u001b[1;32m      6\u001b[0m \u001b[38;5;28mprint\u001b[39m(\u001b[38;5;124m\"\u001b[39m\u001b[38;5;124mLoaded paths.py from:\u001b[39m\u001b[38;5;124m\"\u001b[39m, paths\u001b[38;5;241m.\u001b[39m\u001b[38;5;18m__file__\u001b[39m)\n\u001b[1;32m      7\u001b[0m \u001b[38;5;28mprint\u001b[39m(\u001b[38;5;124m\"\u001b[39m\u001b[38;5;124mAttributes in paths:\u001b[39m\u001b[38;5;124m\"\u001b[39m, \u001b[38;5;28mdir\u001b[39m(paths))\n",
      "\u001b[0;31mModuleNotFoundError\u001b[0m: No module named 'paths'"
     ]
    }
   ],
   "source": [
    "import sys\n",
    "from pathlib import Path\n",
    "import paths\n",
    "\n",
    "print(\"sys.path:\", sys.path[:5])  # first 5 entries\n",
    "print(\"Loaded paths.py from:\", paths.__file__)\n",
    "print(\"Attributes in paths:\", dir(paths))\n"
   ]
  },
  {
   "cell_type": "code",
   "execution_count": 20,
   "id": "51db2dfc",
   "metadata": {},
   "outputs": [
    {
     "ename": "ImportError",
     "evalue": "cannot import name 'EXTERNAL_DATA_DIR' from 'paths' (/Users/maximochterbeck/Documents/WD/bike_counters/paths.py)",
     "output_type": "error",
     "traceback": [
      "\u001b[0;31m---------------------------------------------------------------------------\u001b[0m",
      "\u001b[0;31mImportError\u001b[0m                               Traceback (most recent call last)",
      "Cell \u001b[0;32mIn[20], line 10\u001b[0m\n\u001b[1;32m      7\u001b[0m \u001b[38;5;28;01mif\u001b[39;00m \u001b[38;5;28mstr\u001b[39m(project_root) \u001b[38;5;129;01mnot\u001b[39;00m \u001b[38;5;129;01min\u001b[39;00m sys\u001b[38;5;241m.\u001b[39mpath:\n\u001b[1;32m      8\u001b[0m     sys\u001b[38;5;241m.\u001b[39mpath\u001b[38;5;241m.\u001b[39mappend(\u001b[38;5;28mstr\u001b[39m(project_root))\n\u001b[0;32m---> 10\u001b[0m \u001b[38;5;28;01mfrom\u001b[39;00m\u001b[38;5;250m \u001b[39m\u001b[38;5;21;01mpaths\u001b[39;00m\u001b[38;5;250m \u001b[39m\u001b[38;5;28;01mimport\u001b[39;00m DATA_DIR, EXTERNAL_DATA_DIR\n",
      "\u001b[0;31mImportError\u001b[0m: cannot import name 'EXTERNAL_DATA_DIR' from 'paths' (/Users/maximochterbeck/Documents/WD/bike_counters/paths.py)"
     ]
    }
   ],
   "source": [
    "import sys\n",
    "from pathlib import Path\n",
    "import pandas as pd\n",
    "import ydata_profiling\n",
    "\n",
    "project_root = Path(__file__).resolve().parents[2] if \"__file__\" in globals() else Path().resolve().parents[1]\n",
    "if str(project_root) not in sys.path:\n",
    "    sys.path.append(str(project_root))\n",
    "\n",
    "from paths import DATA_DIR, EXTERNAL_DATA_DIR\n"
   ]
  },
  {
   "cell_type": "code",
   "execution_count": 18,
   "id": "c757bac5",
   "metadata": {},
   "outputs": [
    {
     "ename": "NameError",
     "evalue": "name 'EXTERNAL_DATA_DIR' is not defined",
     "output_type": "error",
     "traceback": [
      "\u001b[0;31m---------------------------------------------------------------------------\u001b[0m",
      "\u001b[0;31mNameError\u001b[0m                                 Traceback (most recent call last)",
      "Cell \u001b[0;32mIn[18], line 2\u001b[0m\n\u001b[1;32m      1\u001b[0m data \u001b[38;5;241m=\u001b[39m pd\u001b[38;5;241m.\u001b[39mread_parquet(DATA_DIR \u001b[38;5;241m/\u001b[39m \u001b[38;5;124m\"\u001b[39m\u001b[38;5;124mtrain.parquet\u001b[39m\u001b[38;5;124m\"\u001b[39m)\n\u001b[0;32m----> 2\u001b[0m weather \u001b[38;5;241m=\u001b[39m pd\u001b[38;5;241m.\u001b[39mread_csv(\u001b[43mEXTERNAL_DATA_DIR\u001b[49m \u001b[38;5;241m/\u001b[39m \u001b[38;5;124m\"\u001b[39m\u001b[38;5;124mweather_data.csv\u001b[39m\u001b[38;5;124m\"\u001b[39m)\n\u001b[1;32m      3\u001b[0m weather\u001b[38;5;241m.\u001b[39minfo()\n\u001b[1;32m      4\u001b[0m weather\u001b[38;5;241m.\u001b[39mhead()\n",
      "\u001b[0;31mNameError\u001b[0m: name 'EXTERNAL_DATA_DIR' is not defined"
     ]
    }
   ],
   "source": [
    "data = pd.read_parquet(DATA_DIR / \"train.parquet\")\n",
    "weather = pd.read_csv(EXTERNAL_DATA_DIR / \"weather_data.csv\")\n",
    "weather.info()\n",
    "weather.head()"
   ]
  },
  {
   "cell_type": "code",
   "execution_count": null,
   "id": "0ed1270b",
   "metadata": {},
   "outputs": [],
   "source": [
    "weather['date'] = pd.to_datetime(weather['date'])\n",
    "weather['date'].describe()\n"
   ]
  },
  {
   "cell_type": "code",
   "execution_count": null,
   "id": "5aab0f39",
   "metadata": {},
   "outputs": [],
   "source": [
    "weather_date_check = weather.sort_values('date')\n",
    "weather_date_check['time_diff'] = weather_date_check['date'].diff()\n",
    "intervals_incorrect = weather_date_check[weather_date_check['time_diff'] != pd.Timedelta(hours=3)]\n",
    "print(intervals_incorrect[['date','time_diff']])\n"
   ]
  },
  {
   "cell_type": "code",
   "execution_count": null,
   "id": "391eb628",
   "metadata": {},
   "outputs": [],
   "source": [
    "duplicates = weather[weather.duplicated(keep=False)]\n",
    "weather.drop_duplicates(inplace=True)\n"
   ]
  },
  {
   "cell_type": "code",
   "execution_count": null,
   "id": "c2245ff8",
   "metadata": {},
   "outputs": [],
   "source": [
    "relevant_columns = [\n",
    "    \"date\",\"t\",\"rr1\",\"rr3\",\"ht_neige\",\"ssfrai\",\"ff\",\"raf10\",\"u\",\"ww\",\"etat_sol\",\"tend\"\n",
    "]\n",
    "weather = weather[relevant_columns]\n"
   ]
  },
  {
   "cell_type": "code",
   "execution_count": null,
   "id": "fc13debf",
   "metadata": {},
   "outputs": [],
   "source": [
    "weather.profile_report()\n"
   ]
  }
 ],
 "metadata": {
  "kernelspec": {
   "display_name": "ds310",
   "language": "python",
   "name": "python3"
  },
  "language_info": {
   "codemirror_mode": {
    "name": "ipython",
    "version": 3
   },
   "file_extension": ".py",
   "mimetype": "text/x-python",
   "name": "python",
   "nbconvert_exporter": "python",
   "pygments_lexer": "ipython3",
   "version": "3.10.18"
  }
 },
 "nbformat": 4,
 "nbformat_minor": 5
}
