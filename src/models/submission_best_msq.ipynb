{
 "cells": [
  {
   "cell_type": "code",
   "execution_count": 9,
   "metadata": {},
   "outputs": [],
   "source": [
    "from pathlib import Path\n",
    "import numpy as np\n",
    "import pandas as pd\n",
    "from feature_engineering import codify_date_2, remove_outliers, get_X_y, covid_19_2\n",
    "from sklearn.compose import ColumnTransformer\n",
    "from sklearn.pipeline import Pipeline\n",
    "from sklearn.preprocessing import OneHotEncoder\n",
    "from xgboost import XGBRegressor\n"
   ]
  },
  {
   "cell_type": "code",
   "execution_count": 10,
   "metadata": {},
   "outputs": [],
   "source": [
    "from sklearn.preprocessing import FunctionTransformer\n",
    "\n",
    "def sin_transformer(period):\n",
    "    return FunctionTransformer(lambda x: np.sin(x / period * 2 * np.pi))\n",
    "\n",
    "\n",
    "def cos_transformer(period):\n",
    "    return FunctionTransformer(lambda x: np.cos(x / period * 2 * np.pi))"
   ]
  },
  {
   "cell_type": "code",
   "execution_count": 11,
   "metadata": {},
   "outputs": [
    {
     "name": "stderr",
     "output_type": "stream",
     "text": [
      "/Users/maximochterbeck/Documents/WD/bike_counters/feature_engineering.py:41: FutureWarning: The default of observed=False is deprecated and will be changed to True in a future version of pandas. Pass observed=False to retain current behavior or observed=True to adopt the future default and silence this warning.\n",
      "  data.groupby([\"counter_name\", \"date_truncated\"])\n",
      "/Users/maximochterbeck/Documents/WD/bike_counters/feature_engineering.py:72: DtypeWarning: Columns (2,3,44,45) have mixed types. Specify dtype option on import or set low_memory=False.\n",
      "  covid_19_index = pd.read_csv(Path(\"data\") / \"Covid_19_Index.csv\")\n"
     ]
    },
    {
     "data": {
      "text/html": [
       "<div>\n",
       "<style scoped>\n",
       "    .dataframe tbody tr th:only-of-type {\n",
       "        vertical-align: middle;\n",
       "    }\n",
       "\n",
       "    .dataframe tbody tr th {\n",
       "        vertical-align: top;\n",
       "    }\n",
       "\n",
       "    .dataframe thead th {\n",
       "        text-align: right;\n",
       "    }\n",
       "</style>\n",
       "<table border=\"1\" class=\"dataframe\">\n",
       "  <thead>\n",
       "    <tr style=\"text-align: right;\">\n",
       "      <th></th>\n",
       "      <th>StringencyIndex_Average</th>\n",
       "      <th>counter_name</th>\n",
       "      <th>year</th>\n",
       "      <th>month</th>\n",
       "      <th>day</th>\n",
       "      <th>day_of_week</th>\n",
       "      <th>hour</th>\n",
       "      <th>is_weekend</th>\n",
       "      <th>IsHoliday</th>\n",
       "    </tr>\n",
       "  </thead>\n",
       "  <tbody>\n",
       "    <tr>\n",
       "      <th>0</th>\n",
       "      <td>46.76</td>\n",
       "      <td>28 boulevard Diderot E-O</td>\n",
       "      <td>2020</td>\n",
       "      <td>9</td>\n",
       "      <td>1</td>\n",
       "      <td>1</td>\n",
       "      <td>2</td>\n",
       "      <td>False</td>\n",
       "      <td>False</td>\n",
       "    </tr>\n",
       "    <tr>\n",
       "      <th>1</th>\n",
       "      <td>46.76</td>\n",
       "      <td>28 boulevard Diderot E-O</td>\n",
       "      <td>2020</td>\n",
       "      <td>9</td>\n",
       "      <td>1</td>\n",
       "      <td>1</td>\n",
       "      <td>3</td>\n",
       "      <td>False</td>\n",
       "      <td>False</td>\n",
       "    </tr>\n",
       "    <tr>\n",
       "      <th>2</th>\n",
       "      <td>46.76</td>\n",
       "      <td>28 boulevard Diderot E-O</td>\n",
       "      <td>2020</td>\n",
       "      <td>9</td>\n",
       "      <td>1</td>\n",
       "      <td>1</td>\n",
       "      <td>4</td>\n",
       "      <td>False</td>\n",
       "      <td>False</td>\n",
       "    </tr>\n",
       "    <tr>\n",
       "      <th>3</th>\n",
       "      <td>46.76</td>\n",
       "      <td>28 boulevard Diderot E-O</td>\n",
       "      <td>2020</td>\n",
       "      <td>9</td>\n",
       "      <td>1</td>\n",
       "      <td>1</td>\n",
       "      <td>15</td>\n",
       "      <td>False</td>\n",
       "      <td>False</td>\n",
       "    </tr>\n",
       "    <tr>\n",
       "      <th>4</th>\n",
       "      <td>46.76</td>\n",
       "      <td>28 boulevard Diderot E-O</td>\n",
       "      <td>2020</td>\n",
       "      <td>9</td>\n",
       "      <td>1</td>\n",
       "      <td>1</td>\n",
       "      <td>18</td>\n",
       "      <td>False</td>\n",
       "      <td>False</td>\n",
       "    </tr>\n",
       "  </tbody>\n",
       "</table>\n",
       "</div>"
      ],
      "text/plain": [
       "   StringencyIndex_Average              counter_name  year  month  day  \\\n",
       "0                    46.76  28 boulevard Diderot E-O  2020      9    1   \n",
       "1                    46.76  28 boulevard Diderot E-O  2020      9    1   \n",
       "2                    46.76  28 boulevard Diderot E-O  2020      9    1   \n",
       "3                    46.76  28 boulevard Diderot E-O  2020      9    1   \n",
       "4                    46.76  28 boulevard Diderot E-O  2020      9    1   \n",
       "\n",
       "   day_of_week  hour  is_weekend  IsHoliday  \n",
       "0            1     2       False      False  \n",
       "1            1     3       False      False  \n",
       "2            1     4       False      False  \n",
       "3            1    15       False      False  \n",
       "4            1    18       False      False  "
      ]
     },
     "execution_count": 11,
     "metadata": {},
     "output_type": "execute_result"
    }
   ],
   "source": [
    "data = pd.read_parquet(Path(\"data\") / \"train.parquet\")\n",
    "mdata = codify_date_2(data)\n",
    "mdata = remove_outliers(mdata)\n",
    "mdata = covid_19_2(mdata)\n",
    "X, y = get_X_y(mdata)\n",
    "X.head()"
   ]
  },
  {
   "cell_type": "code",
   "execution_count": 12,
   "metadata": {},
   "outputs": [
    {
     "name": "stderr",
     "output_type": "stream",
     "text": [
      "/Users/maximochterbeck/Documents/WD/bike_counters/feature_engineering.py:72: DtypeWarning: Columns (2,3,44,45) have mixed types. Specify dtype option on import or set low_memory=False.\n",
      "  covid_19_index = pd.read_csv(Path(\"data\") / \"Covid_19_Index.csv\")\n"
     ]
    }
   ],
   "source": [
    "X_test = pd.read_parquet(Path(\"data\") / \"final_test.parquet\")\n",
    "X_test = codify_date_2(X_test)\n",
    "X_test = covid_19_2(X_test)"
   ]
  },
  {
   "cell_type": "code",
   "execution_count": 13,
   "metadata": {},
   "outputs": [],
   "source": [
    "X_original = pd.read_parquet(Path(\"data\") / \"final_test.parquet\")\n",
    "\n",
    "X_original.loc[:, \"index1\"] = X_original.index\n",
    "X_original = codify_date_2(X_original)\n",
    "X_test.loc[:, \"index2\"] = X_test.index\n",
    "merged_df = X_test.merge(X_original, on=[\"datetime\", \"counter_name\"], how=\"left\")\n",
    "\n",
    "merged_df = merged_df.sort_values(\"index1\")"
   ]
  },
  {
   "cell_type": "code",
   "execution_count": 14,
   "metadata": {},
   "outputs": [],
   "source": [
    "X_test = X_test.drop(columns=[\"counter_id\", \"site_id\", \"site_name\", \n",
    "                                \"counter_installation_date\", \n",
    "                              \"coordinates\", \"counter_technical_id\",\n",
    "                              \"latitude\", \"longitude\", \"datetime\", \"date\"])"
   ]
  },
  {
   "cell_type": "code",
   "execution_count": 15,
   "metadata": {},
   "outputs": [],
   "source": [
    "categorical_columns = [\"counter_name\", \"year\", \"month\", \"day\", \"day_of_week\", \"is_weekend\", \"IsHoliday\"]\n",
    "\n",
    "preprocessor = ColumnTransformer(transformers=[\n",
    "    (\"cat\", OneHotEncoder(handle_unknown='ignore', sparse_output=False), categorical_columns),\n",
    "    (\"hour_sin\", sin_transformer(24), [\"hour\"]),\n",
    "    (\"hour_cos\", cos_transformer(24), [\"hour\"]),\n",
    "], remainder='passthrough')\n",
    "\n",
    "pipeline = Pipeline([\n",
    "    (\"preprocessor\", preprocessor),\n",
    "    (\"regressor\", XGBRegressor(\n",
    "        colsample_bytree=0.8494252738248523,\n",
    "        gamma=0.8835608079221302,\n",
    "        learning_rate=0.12825147053070918,\n",
    "        max_depth=8,\n",
    "        n_estimators=428,\n",
    "        reg_alpha=5.479087800903766,\n",
    "        reg_lambda=6.995216197905481,\n",
    "        subsample=0.6983244655616523,\n",
    "        random_state=1\n",
    "    ))\n",
    "])\n",
    "\n",
    "pipeline.fit(X, y)\n",
    "\n",
    "y_pred = pipeline.predict(X_test)\n",
    "\n",
    "results = pd.DataFrame(\n",
    "    dict(\n",
    "        Id=np.arange(y_pred.shape[0]),\n",
    "        log_bike_count=y_pred,\n",
    "    )\n",
    ")\n",
    "results.to_csv(\"submission.csv\", index=False)"
   ]
  }
 ],
 "metadata": {
  "kernelspec": {
   "display_name": "base",
   "language": "python",
   "name": "python3"
  },
  "language_info": {
   "codemirror_mode": {
    "name": "ipython",
    "version": 3
   },
   "file_extension": ".py",
   "mimetype": "text/x-python",
   "name": "python",
   "nbconvert_exporter": "python",
   "pygments_lexer": "ipython3",
   "version": "3.12.4"
  }
 },
 "nbformat": 4,
 "nbformat_minor": 2
}
