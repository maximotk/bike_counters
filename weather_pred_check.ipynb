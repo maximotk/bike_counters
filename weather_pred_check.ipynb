{
 "cells": [
  {
   "cell_type": "code",
   "execution_count": 1,
   "metadata": {},
   "outputs": [],
   "source": [
    "import pandas as pd\n",
    "import numpy as np\n",
    "from pathlib import Path\n",
    "import holidays\n",
    "import matplotlib.pyplot as plt\n",
    "import seaborn as sns\n",
    "import ydata_profiling\n",
    "from sklearn.model_selection import train_test_split, cross_val_score, StratifiedKFold\n",
    "from sklearn.ensemble import HistGradientBoostingRegressor, GradientBoostingRegressor, RandomForestRegressor\n",
    "from sklearn.metrics import mean_squared_error\n",
    "from sklearn.preprocessing import OneHotEncoder\n",
    "from sklearn.compose import ColumnTransformer\n",
    "from sklearn.pipeline import Pipeline\n",
    "from sklearn.linear_model import LinearRegression\n",
    "from sklearn.preprocessing import StandardScaler\n",
    "from sklearn.impute import SimpleImputer\n",
    "from sklearn.pipeline import make_pipeline\n",
    "from prophet import Prophet\n",
    "from statsmodels.tsa.statespace.sarimax import SARIMAX\n",
    "from feature_engineering import codify_date, codify_date_2, remove_outliers, get_X_y, covid_19, covid_19_2, add_weather\n"
   ]
  },
  {
   "cell_type": "code",
   "execution_count": 2,
   "metadata": {},
   "outputs": [],
   "source": [
    "df = pd.read_parquet(Path(\"data\") / \"train.parquet\")\n",
    "test = pd.read_parquet(Path(\"data\") / \"final_test.parquet\")\n",
    "\n",
    "test_old = test.copy()\n"
   ]
  },
  {
   "cell_type": "code",
   "execution_count": 3,
   "metadata": {},
   "outputs": [
    {
     "data": {
      "text/plain": [
       "Index(['counter_id', 'counter_name', 'site_id', 'site_name', 'date',\n",
       "       'counter_installation_date', 'coordinates', 'counter_technical_id',\n",
       "       'latitude', 'longitude'],\n",
       "      dtype='object')"
      ]
     },
     "execution_count": 3,
     "metadata": {},
     "output_type": "execute_result"
    }
   ],
   "source": [
    "test_old.columns"
   ]
  },
  {
   "cell_type": "code",
   "execution_count": 4,
   "metadata": {},
   "outputs": [],
   "source": [
    "df = codify_date_2(df)\n",
    "test = codify_date_2(test)"
   ]
  },
  {
   "cell_type": "code",
   "execution_count": 5,
   "metadata": {},
   "outputs": [
    {
     "name": "stdout",
     "output_type": "stream",
     "text": [
      "Negative MSE scores from cross-validation: [-0.96288667 -0.55461495 -0.64306749 -0.95816682 -1.43161343]\n",
      "Average Negative MSE: -0.9100698711407886\n"
     ]
    }
   ],
   "source": [
    "features = ['hour', 'month', 'IsHoliday', 'day', \"day_of_week\", \"is_weekend\"]\n",
    "target = 'log_bike_count'\n",
    "\n",
    "X = df[features]\n",
    "y = df[target]\n",
    "\n",
    "model = HistGradientBoostingRegressor(max_iter=100, random_state=42)\n",
    "\n",
    "cv_scores = cross_val_score(model, X, y, cv=5, scoring='neg_mean_squared_error')\n",
    "\n",
    "print(\"Negative MSE scores from cross-validation:\", cv_scores)\n",
    "print(\"Average Negative MSE:\", cv_scores.mean())"
   ]
  },
  {
   "cell_type": "code",
   "execution_count": 6,
   "metadata": {},
   "outputs": [
    {
     "name": "stdout",
     "output_type": "stream",
     "text": [
      "   Id  log_bike_count\n",
      "0   0        1.471516\n",
      "1   1        4.456159\n",
      "2   2        5.158623\n",
      "3   3        4.210475\n",
      "4   4        3.285660\n"
     ]
    }
   ],
   "source": [
    "model = HistGradientBoostingRegressor(max_iter=100, random_state=42)\n",
    "\n",
    "model.fit(X, y)\n",
    "\n",
    "X_test = test[features]\n",
    "\n",
    "y_pred_test = model.predict(X_test)\n",
    "\n",
    "output_df = pd.DataFrame({\n",
    "    'Id': test.index,\n",
    "    'log_bike_count': y_pred_test\n",
    "})\n",
    "\n",
    "\n",
    "print(output_df.head())\n",
    "\n"
   ]
  },
  {
   "cell_type": "markdown",
   "metadata": {},
   "source": [
    "# Now including weather"
   ]
  },
  {
   "cell_type": "code",
   "execution_count": 7,
   "metadata": {},
   "outputs": [],
   "source": [
    "df = add_weather(df)\n",
    "test = add_weather(test)"
   ]
  },
  {
   "cell_type": "markdown",
   "metadata": {},
   "source": [
    "## Ab hier model"
   ]
  },
  {
   "cell_type": "code",
   "execution_count": 9,
   "metadata": {},
   "outputs": [
    {
     "name": "stdout",
     "output_type": "stream",
     "text": [
      "Negative MSE scores from cross-validation: [-0.95660446 -0.55033323 -0.63968072 -0.952396   -1.42777054]\n",
      "Average Negative MSE: -0.9053569912285777\n"
     ]
    }
   ],
   "source": [
    "weather_columns = ['t', 'rr1', 'ff', 'raf10', 'u', 'ww', 'etat_sol', 'tend']\n",
    "\n",
    "features = ['hour', 'month', 'IsHoliday', 'day', \"day_of_week\", \"is_weekend\"] + weather_columns\n",
    "target = 'log_bike_count'\n",
    "\n",
    "X = df[features]\n",
    "y = df[target]\n",
    "\n",
    "model = HistGradientBoostingRegressor(max_iter=100, random_state=42)\n",
    "\n",
    "cv_scores = cross_val_score(model, X, y, cv=5, scoring='neg_mean_squared_error')\n",
    "\n",
    "print(\"Negative MSE scores from cross-validation:\", cv_scores)\n",
    "print(\"Average Negative MSE:\", cv_scores.mean())\n"
   ]
  },
  {
   "cell_type": "code",
   "execution_count": 10,
   "metadata": {},
   "outputs": [
    {
     "name": "stdout",
     "output_type": "stream",
     "text": [
      "   Id  log_bike_count\n",
      "0   0        1.497950\n",
      "1   1        3.995327\n",
      "2   2        4.981202\n",
      "3   3        3.821747\n",
      "4   4        3.263629\n"
     ]
    }
   ],
   "source": [
    "model = HistGradientBoostingRegressor(max_iter=100, random_state=42)\n",
    "\n",
    "model.fit(X, y)\n",
    "\n",
    "X_test = test[features]\n",
    "\n",
    "y_pred_test = model.predict(X_test)\n",
    "\n",
    "output_df = pd.DataFrame({\n",
    "    'Id': test.index,\n",
    "    'log_bike_count': y_pred_test\n",
    "})\n",
    "\n",
    "\n",
    "print(output_df.head())\n",
    "\n"
   ]
  },
  {
   "cell_type": "code",
   "execution_count": 11,
   "metadata": {},
   "outputs": [],
   "source": [
    "output_df.to_csv(\"submission_maxim.csv\", index=False)"
   ]
  },
  {
   "cell_type": "code",
   "execution_count": 12,
   "metadata": {},
   "outputs": [
    {
     "data": {
      "text/plain": [
       "(51440, 2)"
      ]
     },
     "execution_count": 12,
     "metadata": {},
     "output_type": "execute_result"
    }
   ],
   "source": [
    "output_df.shape"
   ]
  }
 ],
 "metadata": {
  "kernelspec": {
   "display_name": "base",
   "language": "python",
   "name": "python3"
  },
  "language_info": {
   "codemirror_mode": {
    "name": "ipython",
    "version": 3
   },
   "file_extension": ".py",
   "mimetype": "text/x-python",
   "name": "python",
   "nbconvert_exporter": "python",
   "pygments_lexer": "ipython3",
   "version": "3.12.4"
  }
 },
 "nbformat": 4,
 "nbformat_minor": 2
}
