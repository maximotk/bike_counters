{
 "cells": [
  {
   "cell_type": "code",
   "execution_count": 1,
   "metadata": {},
   "outputs": [],
   "source": [
    "from pathlib import Path\n",
    "import numpy as np\n",
    "import pandas as pd\n",
    "import matplotlib.pyplot as plt\n",
    "import seaborn as sns\n",
    "import utils\n",
    "from feature_engineering import codify_date, codify_date_2, remove_outliers, get_X_y, covid_19, covid_19_2\n",
    "from feature_engineering import add_weather, add_lag_and_rolling_features\n",
    "from utils import handle_missing_values\n",
    "from sklearn.model_selection import cross_val_score\n",
    "from sklearn.ensemble import HistGradientBoostingRegressor, RandomForestRegressor\n",
    "from sklearn import linear_model\n",
    "from sklearn.compose import ColumnTransformer\n",
    "from sklearn.pipeline import Pipeline\n",
    "from sklearn.preprocessing import OneHotEncoder\n",
    "from sklearn.discriminant_analysis import StandardScaler\n",
    "from sklearn.impute import SimpleImputer\n",
    "from xgboost import XGBRegressor\n",
    "from lightgbm import LGBMRegressor"
   ]
  },
  {
   "cell_type": "code",
   "execution_count": null,
   "metadata": {},
   "outputs": [],
   "source": [
    "from sklearn.preprocessing import FunctionTransformer\n",
    "\n",
    "\n",
    "def sin_transformer(period):\n",
    "    return FunctionTransformer(lambda x: np.sin(x / period * 2 * np.pi))\n",
    "\n",
    "\n",
    "def cos_transformer(period):\n",
    "    return FunctionTransformer(lambda x: np.cos(x / period * 2 * np.pi))"
   ]
  },
  {
   "cell_type": "code",
   "execution_count": null,
   "metadata": {},
   "outputs": [],
   "source": [
    "data = pd.read_parquet(Path(\"data\") / \"train.parquet\")\n",
    "mdata = codify_date_2(data)\n",
    "mdata = remove_outliers(mdata)\n",
    "mdata = covid_19(mdata)\n",
    "mdata = add_weather(mdata)\n",
    "mdata = handle_missing_values(mdata, \"linear\")\n",
    "X, y = get_X_y(mdata)\n",
    "X.head()"
   ]
  },
  {
   "cell_type": "code",
   "execution_count": null,
   "metadata": {},
   "outputs": [],
   "source": [
    "X_test = pd.read_parquet(Path(\"data\") / \"final_test.parquet\")\n",
    "X_test = codify_date_2(X_test)\n",
    "X_test = covid_19(X_test)\n",
    "X_test = add_weather(X_test)\n",
    "X_test = handle_missing_values(X_test, \"linear\")\n",
    "\n",
    "X_test.head()"
   ]
  },
  {
   "cell_type": "code",
   "execution_count": null,
   "metadata": {},
   "outputs": [],
   "source": [
    "# Save original index\n",
    "X_original = pd.read_parquet(Path(\"data\") / \"final_test.parquet\")\n",
    "X_original.loc[:, \"index1\"] = X_original.index\n",
    "X_original = codify_date_2(X_original)\n",
    "\n",
    "# Merge DataFrames\n",
    "X_test.loc[:, \"index2\"] = X_test.index\n",
    "merged_df = X_test.merge(X_original, on=[\"datetime\", \"counter_name\"], how=\"left\")\n",
    "\n",
    "merged_df = merged_df.sort_values(\"index1\")\n",
    "display(merged_df[[\"index1\", \"index2\"]])\n"
   ]
  },
  {
   "cell_type": "code",
   "execution_count": null,
   "metadata": {},
   "outputs": [],
   "source": [
    "X_test = X_test.drop(columns=[\"counter_id\", \"site_id\", \"site_name\", \n",
    "                                \"counter_installation_date\", \n",
    "                              \"coordinates\", \"counter_technical_id\",\n",
    "                              \"latitude\", \"longitude\", \"datetime\", \"date\"])"
   ]
  },
  {
   "cell_type": "code",
   "execution_count": null,
   "metadata": {},
   "outputs": [],
   "source": [
    "numerical_columns = ['t', 'rr1', 'u', 'ht_neige', 'raf10', 'ff', 'ww', 'etat_sol', 'tend']\n",
    "categorical_columns = [\"counter_name\", \"year\", \"month\", \"day\", \"day_of_week\", \"is_weekend\", \"IsHoliday\"]\n",
    "\n",
    "preprocessor = ColumnTransformer(transformers=[\n",
    "    (\"cat\", OneHotEncoder(handle_unknown='ignore', sparse_output=False), categorical_columns),\n",
    "    (\"hour_sin\", sin_transformer(24), [\"hour\"]),\n",
    "    (\"hour_cos\", cos_transformer(24), [\"hour\"]),\n",
    "], remainder='passthrough')\n",
    "\n",
    "pipeline = Pipeline([\n",
    "    (\"preprocessor\", preprocessor),\n",
    "    (\"regressor\", XGBRegressor())\n",
    "])\n",
    "\n",
    "# Fit the pipeline to the training data\n",
    "pipeline.fit(X, y)\n",
    "\n",
    "y_pred = pipeline.predict(X_test)\n",
    "y_pred = y_pred[merged_df[\"index2\"]]\n",
    "\n",
    "results = pd.DataFrame(\n",
    "    dict(\n",
    "        Id=np.arange(y_pred.shape[0]),\n",
    "        log_bike_count=y_pred,\n",
    "    )\n",
    ")\n",
    "results.to_csv(\"submission_maxim.csv\", index=False)"
   ]
  }
 ],
 "metadata": {
  "kernelspec": {
   "display_name": "base",
   "language": "python",
   "name": "python3"
  },
  "language_info": {
   "codemirror_mode": {
    "name": "ipython",
    "version": 3
   },
   "file_extension": ".py",
   "mimetype": "text/x-python",
   "name": "python",
   "nbconvert_exporter": "python",
   "pygments_lexer": "ipython3",
   "version": "3.12.4"
  }
 },
 "nbformat": 4,
 "nbformat_minor": 2
}
